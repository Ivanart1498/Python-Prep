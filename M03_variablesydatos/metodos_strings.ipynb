{
 "cells": [
  {
   "cell_type": "code",
   "execution_count": 2,
   "metadata": {},
   "outputs": [
    {
     "name": "stdout",
     "output_type": "stream",
     "text": [
      "HOLA, MUNDO\n"
     ]
    }
   ],
   "source": [
    "cadena ='hola, mundo'\n",
    "cadena=cadena.upper() #convierte todos los caracteres de la cadena a mayúsculas \n",
    "print(cadena)"
   ]
  },
  {
   "cell_type": "code",
   "execution_count": 3,
   "metadata": {},
   "outputs": [
    {
     "name": "stdout",
     "output_type": "stream",
     "text": [
      "hola, mundo\n"
     ]
    }
   ],
   "source": [
    "cadena='HOLA, MUNDO'\n",
    "cadena=cadena.lower() #Convierte todos los caracteres de la cadena a minúsculas\n",
    "print(cadena)"
   ]
  },
  {
   "cell_type": "code",
   "execution_count": 5,
   "metadata": {},
   "outputs": [
    {
     "name": "stdout",
     "output_type": "stream",
     "text": [
      "Hola, mundo\n"
     ]
    }
   ],
   "source": [
    "print(cadena.capitalize())#Convierte el primer carácter de la cadena a mayúscula y el resto a minúsculas"
   ]
  },
  {
   "cell_type": "code",
   "execution_count": 6,
   "metadata": {},
   "outputs": [
    {
     "name": "stdout",
     "output_type": "stream",
     "text": [
      "hola mundo\n"
     ]
    }
   ],
   "source": [
    "cadena='  hola mundo '\n",
    "cadena=cadena.strip()#Elimina los espacios en blanco al inicio y al final de la cadena\n",
    "print(cadena)"
   ]
  },
  {
   "cell_type": "code",
   "execution_count": 7,
   "metadata": {},
   "outputs": [
    {
     "name": "stdout",
     "output_type": "stream",
     "text": [
      "['hola', 'amigo', 'cómo', 'estas?']\n"
     ]
    }
   ],
   "source": [
    "cadena='hola, amigo, cómo, estas?'\n",
    "cadena=cadena.split(\", \")#Divide la cadena en una lista de subcadenas utilizando un separador\n",
    "print(cadena)"
   ]
  },
  {
   "cell_type": "code",
   "execution_count": 10,
   "metadata": {},
   "outputs": [
    {
     "name": "stdout",
     "output_type": "stream",
     "text": [
      "Hola amor!\n"
     ]
    }
   ],
   "source": [
    "cadena='Hola mundo!'\n",
    "cadena=cadena.replace('mundo','amor')#Reemplaza todas las ocurrencias de una subcadena por otra\n",
    "print(cadena)"
   ]
  }
 ],
 "metadata": {
  "kernelspec": {
   "display_name": "Python 3",
   "language": "python",
   "name": "python3"
  },
  "language_info": {
   "codemirror_mode": {
    "name": "ipython",
    "version": 3
   },
   "file_extension": ".py",
   "mimetype": "text/x-python",
   "name": "python",
   "nbconvert_exporter": "python",
   "pygments_lexer": "ipython3",
   "version": "3.12.4"
  }
 },
 "nbformat": 4,
 "nbformat_minor": 2
}
